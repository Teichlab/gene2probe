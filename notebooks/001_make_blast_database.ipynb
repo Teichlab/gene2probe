{
 "cells": [
  {
   "cell_type": "code",
   "execution_count": 2,
   "id": "96f18aad-e8e9-4709-9c8d-a2123cddabc4",
   "metadata": {},
   "outputs": [
    {
     "name": "stderr",
     "output_type": "stream",
     "text": [
      "/nfs/team205/is10/miniconda/envs/gene2probe/lib/python3.11/site-packages/Bio/Application/__init__.py:40: BiopythonDeprecationWarning: The Bio.Application modules and modules relying on it have been deprecated.\n",
      "\n",
      "Due to the on going maintenance burden of keeping command line application\n",
      "wrappers up to date, we have decided to deprecate and eventually remove these\n",
      "modules.\n",
      "\n",
      "We instead now recommend building your command line and invoking it directly\n",
      "with the subprocess module.\n",
      "  warnings.warn(\n"
     ]
    }
   ],
   "source": [
    "import os \n",
    "import sys\n",
    "import subprocess\n",
    "import pandas as pd\n",
    "import numpy as np\n",
    "import pybedtools\n",
    "from Bio.Seq import Seq\n",
    "from Bio.SeqUtils import gc_fraction\n",
    "from Bio.Blast import NCBIXML\n",
    "from Bio.Blast.Applications import NcbiblastnCommandline\n",
    "from gene2probe import *"
   ]
  },
  {
   "cell_type": "code",
   "execution_count": 12,
   "id": "2df65fea-47f7-4511-94a5-4127092df3a2",
   "metadata": {},
   "outputs": [],
   "source": [
    "gtf = '/nfs/team205/is10/resources/ucsc_genomes/hg38.ncbiRefSeq.gtf' ## Gene annotation in gtf file\n",
    "fasta = '/nfs/team205/is10/resources/ucsc_genomes/hg38.fa' ## Genome in fasta file\n",
    "mode = 'exon'\n",
    "out_dir = '/nfs/team205/is10/projects/thytrans/data/gene2probe/blastdb/'\n",
    "os.makedirs(out_dir , exist_ok=True)\n",
    "out_name = 'hg38_ncbiRefSeq_exons'\n",
    "blast_exec_path = '/nfs/team205/is10/miniconda/envs/gene2probe/bin/'"
   ]
  },
  {
   "cell_type": "code",
   "execution_count": 4,
   "id": "d801430f-d985-4a80-8a14-e115c3347952",
   "metadata": {},
   "outputs": [
    {
     "name": "stderr",
     "output_type": "stream",
     "text": [
      "/nfs/team205/is10/projects/thytrans/scripts/008_visiumHD/gene2probe.py:38: SettingWithCopyWarning: \n",
      "A value is trying to be set on a copy of a slice from a DataFrame.\n",
      "Try using .loc[row_indexer,col_indexer] = value instead\n",
      "\n",
      "See the caveats in the documentation: https://pandas.pydata.org/pandas-docs/stable/user_guide/indexing.html#returning-a-view-versus-a-copy\n",
      "  df_bed['start'] = df_bed['start'].astype(int) - 1\n"
     ]
    }
   ],
   "source": [
    "## Read gtf\n",
    "gene_anno = read_gtf(gtf)\n",
    "\n",
    "## Filter for exon/transcript respectively\n",
    "gene_anno = gene_anno[gene_anno['feature'] == mode].reset_index(drop=True)\n",
    "\n",
    "## Extract gene name\n",
    "gene_ids = gene_anno['attribute'].apply(extract_feature_from_gtf, feature='gene_name')\n",
    "\n",
    "## Convert to bed\n",
    "bed_df = gtf_2_bed(gene_anno, name_pref = (''))\n",
    "bed_df['name'] = gene_ids\n",
    "\n",
    "## Initialise bedtools\n",
    "bed = pybedtools.BedTool.from_dataframe(bed_df)"
   ]
  },
  {
   "cell_type": "code",
   "execution_count": 5,
   "id": "e6e837dc-8e87-42e8-aae0-6f04db7fca21",
   "metadata": {},
   "outputs": [
    {
     "data": {
      "text/html": [
       "<div>\n",
       "<style scoped>\n",
       "    .dataframe tbody tr th:only-of-type {\n",
       "        vertical-align: middle;\n",
       "    }\n",
       "\n",
       "    .dataframe tbody tr th {\n",
       "        vertical-align: top;\n",
       "    }\n",
       "\n",
       "    .dataframe thead th {\n",
       "        text-align: right;\n",
       "    }\n",
       "</style>\n",
       "<table border=\"1\" class=\"dataframe\">\n",
       "  <thead>\n",
       "    <tr style=\"text-align: right;\">\n",
       "      <th></th>\n",
       "      <th>seqname</th>\n",
       "      <th>source</th>\n",
       "      <th>feature</th>\n",
       "      <th>start</th>\n",
       "      <th>end</th>\n",
       "      <th>score</th>\n",
       "      <th>strand</th>\n",
       "      <th>frame</th>\n",
       "      <th>attribute</th>\n",
       "    </tr>\n",
       "  </thead>\n",
       "  <tbody>\n",
       "    <tr>\n",
       "      <th>0</th>\n",
       "      <td>chrM</td>\n",
       "      <td>ncbiRefSeq.2022-10-28</td>\n",
       "      <td>exon</td>\n",
       "      <td>15956</td>\n",
       "      <td>16023</td>\n",
       "      <td>.</td>\n",
       "      <td>-</td>\n",
       "      <td>.</td>\n",
       "      <td>gene_id \"TRNP\"; transcript_id \"rna-TRNP\"; exon...</td>\n",
       "    </tr>\n",
       "    <tr>\n",
       "      <th>1</th>\n",
       "      <td>chrM</td>\n",
       "      <td>ncbiRefSeq.2022-10-28</td>\n",
       "      <td>exon</td>\n",
       "      <td>15888</td>\n",
       "      <td>15953</td>\n",
       "      <td>.</td>\n",
       "      <td>+</td>\n",
       "      <td>.</td>\n",
       "      <td>gene_id \"TRNT\"; transcript_id \"rna-TRNT\"; exon...</td>\n",
       "    </tr>\n",
       "    <tr>\n",
       "      <th>2</th>\n",
       "      <td>chrM</td>\n",
       "      <td>ncbiRefSeq.2022-10-28</td>\n",
       "      <td>exon</td>\n",
       "      <td>14747</td>\n",
       "      <td>15887</td>\n",
       "      <td>.</td>\n",
       "      <td>+</td>\n",
       "      <td>.</td>\n",
       "      <td>gene_id \"CYTB\"; transcript_id \"rna-CYTB\"; exon...</td>\n",
       "    </tr>\n",
       "    <tr>\n",
       "      <th>3</th>\n",
       "      <td>chrM</td>\n",
       "      <td>ncbiRefSeq.2022-10-28</td>\n",
       "      <td>exon</td>\n",
       "      <td>14674</td>\n",
       "      <td>14742</td>\n",
       "      <td>.</td>\n",
       "      <td>-</td>\n",
       "      <td>.</td>\n",
       "      <td>gene_id \"TRNE\"; transcript_id \"rna-TRNE\"; exon...</td>\n",
       "    </tr>\n",
       "    <tr>\n",
       "      <th>4</th>\n",
       "      <td>chrM</td>\n",
       "      <td>ncbiRefSeq.2022-10-28</td>\n",
       "      <td>exon</td>\n",
       "      <td>14149</td>\n",
       "      <td>14673</td>\n",
       "      <td>.</td>\n",
       "      <td>-</td>\n",
       "      <td>.</td>\n",
       "      <td>gene_id \"ND6\"; transcript_id \"rna-ND6\"; exon_n...</td>\n",
       "    </tr>\n",
       "  </tbody>\n",
       "</table>\n",
       "</div>"
      ],
      "text/plain": [
       "  seqname                 source feature  start    end score strand frame  \\\n",
       "0    chrM  ncbiRefSeq.2022-10-28    exon  15956  16023     .      -     .   \n",
       "1    chrM  ncbiRefSeq.2022-10-28    exon  15888  15953     .      +     .   \n",
       "2    chrM  ncbiRefSeq.2022-10-28    exon  14747  15887     .      +     .   \n",
       "3    chrM  ncbiRefSeq.2022-10-28    exon  14674  14742     .      -     .   \n",
       "4    chrM  ncbiRefSeq.2022-10-28    exon  14149  14673     .      -     .   \n",
       "\n",
       "                                           attribute  \n",
       "0  gene_id \"TRNP\"; transcript_id \"rna-TRNP\"; exon...  \n",
       "1  gene_id \"TRNT\"; transcript_id \"rna-TRNT\"; exon...  \n",
       "2  gene_id \"CYTB\"; transcript_id \"rna-CYTB\"; exon...  \n",
       "3  gene_id \"TRNE\"; transcript_id \"rna-TRNE\"; exon...  \n",
       "4  gene_id \"ND6\"; transcript_id \"rna-ND6\"; exon_n...  "
      ]
     },
     "execution_count": 5,
     "metadata": {},
     "output_type": "execute_result"
    }
   ],
   "source": [
    "gene_anno.head()"
   ]
  },
  {
   "cell_type": "code",
   "execution_count": 7,
   "id": "ccaa7cab-55bb-4b71-a921-f45ae6ce6fef",
   "metadata": {},
   "outputs": [
    {
     "name": "stderr",
     "output_type": "stream",
     "text": [
      "IOPub data rate exceeded.\n",
      "The Jupyter server will temporarily stop sending output\n",
      "to the client in order to avoid crashing it.\n",
      "To change this limit, set the config variable\n",
      "`--ServerApp.iopub_data_rate_limit`.\n",
      "\n",
      "Current values:\n",
      "ServerApp.iopub_data_rate_limit=1000000.0 (bytes/sec)\n",
      "ServerApp.rate_limit_window=3.0 (secs)\n",
      "\n"
     ]
    }
   ],
   "source": [
    "## Get fasta\n",
    "seq = bed.sequence(fi=fasta, s=True, name=True, fullHeader=True) "
   ]
  },
  {
   "cell_type": "code",
   "execution_count": 8,
   "id": "773cf604-53ba-4f89-9f33-1dffa021c11a",
   "metadata": {},
   "outputs": [
    {
     "data": {
      "text/plain": [
       "<BedTool(/tmp/pybedtools.92zqfjqx.tmp)>"
      ]
     },
     "execution_count": 8,
     "metadata": {},
     "output_type": "execute_result"
    }
   ],
   "source": [
    "##Export fasta\n",
    "seq.save_seqs((out_dir + out_name +  '.fa'))"
   ]
  },
  {
   "cell_type": "code",
   "execution_count": 13,
   "id": "015b8a73-7c53-4841-8d17-5fbb74225b45",
   "metadata": {},
   "outputs": [
    {
     "name": "stdout",
     "output_type": "stream",
     "text": [
      "Database created successfully!\n",
      "\n",
      "\n",
      "Building a new DB, current time: 04/24/2024 22:10:36\n",
      "New DB name:   /nfs/team205/is10/projects/thytrans/data/gene2probe/blastdb/hg38_ncbiRefSeq_exons_db\n",
      "New DB title:  /nfs/team205/is10/projects/thytrans/data/gene2probe/blastdb/hg38_ncbiRefSeq_exons.fa\n",
      "Sequence type: Nucleotide\n",
      "Keep MBits: T\n",
      "Maximum file size: 1000000000B\n",
      "Adding sequences from FASTA; added 2178727 sequences in 75.0933 seconds.\n",
      "\n"
     ]
    }
   ],
   "source": [
    "## Make blast db\n",
    "command = [\n",
    "    (blast_exec_path + 'makeblastdb'),\n",
    "    '-in', (out_dir + out_name +  '.fa'),  # Input FASTA file\n",
    "    '-dbtype', 'nucl',                     # Database type, 'nucl' for nucleotide\n",
    "    '-out', (out_dir + out_name +  '_db')  # Output database name\n",
    "]\n",
    "\n",
    "# Run the command\n",
    "result = subprocess.run(command, capture_output=True, text=True)\n",
    "\n",
    "# Check if the command was successful\n",
    "if result.returncode == 0:\n",
    "    print(\"Database created successfully!\")\n",
    "    print(result.stdout)  # Print standard output\n",
    "else:\n",
    "    print(\"Error in database creation:\")\n",
    "    print(result.stderr)  # Print any error messages"
   ]
  },
  {
   "cell_type": "code",
   "execution_count": null,
   "id": "cd4be91d-318a-4a38-bae3-ae67ceb479b1",
   "metadata": {},
   "outputs": [],
   "source": []
  }
 ],
 "metadata": {
  "kernelspec": {
   "display_name": "gene2probe",
   "language": "python",
   "name": "gene2probe"
  },
  "language_info": {
   "codemirror_mode": {
    "name": "ipython",
    "version": 3
   },
   "file_extension": ".py",
   "mimetype": "text/x-python",
   "name": "python",
   "nbconvert_exporter": "python",
   "pygments_lexer": "ipython3",
   "version": "3.11.9"
  }
 },
 "nbformat": 4,
 "nbformat_minor": 5
}
