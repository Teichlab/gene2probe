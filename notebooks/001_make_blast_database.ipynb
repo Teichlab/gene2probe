{
 "cells": [
  {
   "cell_type": "code",
   "execution_count": 1,
   "id": "96f18aad-e8e9-4709-9c8d-a2123cddabc4",
   "metadata": {},
   "outputs": [],
   "source": [
    "import os \n",
    "import sys\n",
    "import subprocess\n",
    "import pandas as pd\n",
    "import numpy as np\n",
    "import pybedtools\n",
    "from gene2probe import *"
   ]
  },
  {
   "cell_type": "markdown",
   "id": "9679d615-e430-42b2-a323-196d459108b9",
   "metadata": {},
   "source": [
    "This tutorial explains how to create your own blast database.\n",
    "We already provide one containing RefSeq exons, but you might want to make your own (e.g., because you work on a different species or want to consider different genes/features).\n",
    "Simply adjust the fasta/gtf input files and the mode (gtf feature type to filter for)."
   ]
  },
  {
   "cell_type": "code",
   "execution_count": 2,
   "id": "2df65fea-47f7-4511-94a5-4127092df3a2",
   "metadata": {},
   "outputs": [],
   "source": [
    "fasta = '../hg38_resources/hg38.fa' ## Genome in fasta file\n",
    "gtf = '../hg38_resources/hg38.ncbiRefSeq.gtf' ## Gene annotation in gtf file\n",
    "\n",
    "mode = 'exon' ## Which feature to filter the annotation for (exon, CDS, gene)\n",
    "\n",
    "out_dir = '../sample_run/001_blastdb/' ## Specify output directory\n",
    "os.makedirs(out_dir , exist_ok=True) ## And make it if it doesn't exist\n",
    "out_name = 'hg38_ncbiRefSeq_exons' ## Name for the blast database"
   ]
  },
  {
   "cell_type": "code",
   "execution_count": 3,
   "id": "0bfacc82-1534-48bb-9f46-c1c1b492f870",
   "metadata": {},
   "outputs": [],
   "source": [
    "## Path to blast binaries.\n",
    "## Replace with your conda environment\n",
    "## This can also be omitted if you started the jupyter session from within the gene2probe conda environment\n",
    "blast_exec_path = '/nfs/team205/is10/miniconda/envs/gene2probe_env/bin/'"
   ]
  },
  {
   "cell_type": "markdown",
   "id": "d01f1cdc-832a-4801-a0de-37b5a98d73a8",
   "metadata": {},
   "source": [
    "The first step is to filter our gtf file, filter for our feature of interest, convert to bed format and initialise a pybedtools object."
   ]
  },
  {
   "cell_type": "code",
   "execution_count": 4,
   "id": "d801430f-d985-4a80-8a14-e115c3347952",
   "metadata": {},
   "outputs": [
    {
     "name": "stderr",
     "output_type": "stream",
     "text": [
      "/nfs/team205/is10/miniconda/envs/gene2probe_env/lib/python3.11/site-packages/gene2probe/gene2probe.py:39: SettingWithCopyWarning: \n",
      "A value is trying to be set on a copy of a slice from a DataFrame.\n",
      "Try using .loc[row_indexer,col_indexer] = value instead\n",
      "\n",
      "See the caveats in the documentation: https://pandas.pydata.org/pandas-docs/stable/user_guide/indexing.html#returning-a-view-versus-a-copy\n",
      "  df_bed['start'] = df_bed['start'].astype(int) - 1\n"
     ]
    }
   ],
   "source": [
    "## Read gtf\n",
    "gene_anno = read_gtf(gtf)\n",
    "\n",
    "## Filter for exon/transcript respectively\n",
    "gene_anno = gene_anno[gene_anno['feature'] == mode].reset_index(drop=True)\n",
    "\n",
    "## Extract gene names\n",
    "gene_ids = gene_anno['attribute'].apply(extract_feature_from_gtf, feature='gene_name')\n",
    "\n",
    "## Convert to bed\n",
    "bed_df = gtf_2_bed(gene_anno, name_pref = (''))\n",
    "bed_df['name'] = gene_ids\n",
    "\n",
    "## Initialise bedtools\n",
    "bed = pybedtools.BedTool.from_dataframe(bed_df)"
   ]
  },
  {
   "cell_type": "markdown",
   "id": "27599bda-f99b-41ee-bf84-16c81549e77d",
   "metadata": {},
   "source": [
    "Now we can use pybedtools to get the sequences for these regions.\n",
    "We make sure to extract the sequence in the right strand and to keep the name of the gene."
   ]
  },
  {
   "cell_type": "code",
   "execution_count": 5,
   "id": "ccaa7cab-55bb-4b71-a921-f45ae6ce6fef",
   "metadata": {},
   "outputs": [
    {
     "name": "stderr",
     "output_type": "stream",
     "text": [
      "IOPub data rate exceeded.\n",
      "The Jupyter server will temporarily stop sending output\n",
      "to the client in order to avoid crashing it.\n",
      "To change this limit, set the config variable\n",
      "`--ServerApp.iopub_data_rate_limit`.\n",
      "\n",
      "Current values:\n",
      "ServerApp.iopub_data_rate_limit=1000000.0 (bytes/sec)\n",
      "ServerApp.rate_limit_window=3.0 (secs)\n",
      "\n"
     ]
    },
    {
     "data": {
      "text/plain": [
       "<BedTool(/tmp/pybedtools.86erwuew.tmp)>"
      ]
     },
     "execution_count": 5,
     "metadata": {},
     "output_type": "execute_result"
    }
   ],
   "source": [
    "## Get fasta\n",
    "seq = bed.sequence(\n",
    "    fi=fasta,\n",
    "    s=True, ##Get sequence in the correct strand per transcript (i.e., in 5'->3')\n",
    "    name=True, ##Keeping name of the gene, which will help us distinguish between off-targets and our gene of interest.\n",
    "    fullHeader=True\n",
    ") \n",
    "\n",
    "##Export fasta\n",
    "seq.save_seqs((out_dir + out_name +  '.fa'))"
   ]
  },
  {
   "cell_type": "markdown",
   "id": "f2a2d73b-8298-43ea-92cc-d6e0aa17a24f",
   "metadata": {},
   "source": [
    "Now we can use blast (which we should have installed in our conda environment) to create a blast database."
   ]
  },
  {
   "cell_type": "code",
   "execution_count": 6,
   "id": "f6fe7e5b-ea7d-4b86-a746-42ed5951fe8d",
   "metadata": {},
   "outputs": [
    {
     "name": "stdout",
     "output_type": "stream",
     "text": [
      "Database created successfully!\n",
      "\n",
      "\n",
      "Building a new DB, current time: 05/03/2024 14:27:56\n",
      "New DB name:   /nfs/team205/is10/projects/gene2probe/sample_run/001_blastdb/hg38_ncbiRefSeq_exons_db\n",
      "New DB title:  ../sample_run/001_blastdb/hg38_ncbiRefSeq_exons.fa\n",
      "Sequence type: Nucleotide\n",
      "Keep MBits: T\n",
      "Maximum file size: 1000000000B\n",
      "Adding sequences from FASTA; added 2178727 sequences in 81.0432 seconds.\n",
      "\n"
     ]
    }
   ],
   "source": [
    "## Make blast db\n",
    "command = [\n",
    "    (blast_exec_path + 'makeblastdb'), ## Can omit absolute path if jupyter session started from t\n",
    "    '-in', (out_dir + out_name +  '.fa'),  # Input FASTA file\n",
    "    '-dbtype', 'nucl',                     # Database type, 'nucl' for nucleotide\n",
    "    '-out', (out_dir + out_name +  '_db')  # Output database name\n",
    "]\n",
    "\n",
    "# Run the command\n",
    "result = subprocess.run(command, capture_output=True, text=True)\n",
    "\n",
    "# Check if the command was successful\n",
    "if result.returncode == 0:\n",
    "    print(\"Database created successfully!\")\n",
    "    print(result.stdout)  # Print standard output\n",
    "else:\n",
    "    print(\"Error in database creation:\")\n",
    "    print(result.stderr)  # Print any error messages"
   ]
  },
  {
   "cell_type": "markdown",
   "id": "80f39d1e-c710-49c6-8475-c4a98c52a50f",
   "metadata": {},
   "source": [
    "We are done! Now we are ready to use this database to test our probes!"
   ]
  },
  {
   "cell_type": "code",
   "execution_count": null,
   "id": "bd6ddde3-9dce-4d83-8f52-212d61eaa44a",
   "metadata": {},
   "outputs": [],
   "source": []
  }
 ],
 "metadata": {
  "kernelspec": {
   "display_name": "gene2probe_env",
   "language": "python",
   "name": "gene2probe_env"
  },
  "language_info": {
   "codemirror_mode": {
    "name": "ipython",
    "version": 3
   },
   "file_extension": ".py",
   "mimetype": "text/x-python",
   "name": "python",
   "nbconvert_exporter": "python",
   "pygments_lexer": "ipython3",
   "version": "3.11.9"
  }
 },
 "nbformat": 4,
 "nbformat_minor": 5
}
